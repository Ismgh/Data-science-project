{
  "nbformat": 4,
  "nbformat_minor": 0,
  "metadata": {
    "colab": {
      "name": "Copie de Data Science Project (M1 Paris Saclay).ipynb",
      "provenance": [],
      "collapsed_sections": [],
      "toc_visible": true,
      "authorship_tag": "ABX9TyMZwpr71OU3d7OYeX+mKMtO",
      "include_colab_link": true
    },
    "kernelspec": {
      "name": "python3",
      "display_name": "Python 3"
    }
  },
  "cells": [
    {
      "cell_type": "markdown",
      "metadata": {
        "id": "view-in-github",
        "colab_type": "text"
      },
      "source": [
        "<a href=\"https://colab.research.google.com/github/Ismgh/Data-science-project/blob/master/Copie_de_Data_Science_Project_(M1_Paris_Saclay).ipynb\" target=\"_parent\"><img src=\"https://colab.research.google.com/assets/colab-badge.svg\" alt=\"Open In Colab\"/></a>"
      ]
    },
    {
      "cell_type": "markdown",
      "metadata": {
        "id": "YrVe86tV8COD",
        "colab_type": "text"
      },
      "source": [
        "# **Ensemble des données**"
      ]
    },
    {
      "cell_type": "markdown",
      "metadata": {
        "id": "8aphbh2u8jQy",
        "colab_type": "text"
      },
      "source": [
        "On a choisit un ensemble de données enregistrées issus d'une campagne publicitaire pour une institution banquaire portugaise. La campagne vise a augmenter le nombre des prospects de la banque en utilisant *le marketing téléphonique*. \n",
        "On peut catégoriser les exemples d'apprentissage en deux groupes :\n",
        "\n",
        "1.   Prospects : Les personnes contactées par le service de la compagne, qui ont décider de crée un compte chez la banque et par conséquent ils sont devenues des prospects de la banque. \n",
        "2.   Non-Prospects : Les personnes contactées par le service de la compagne, mais ils n'ont pas créer un compte chez la banque et par conséquent ils ne sont pas considéré comme des prospects de la banque.\n",
        "\n"
      ]
    },
    {
      "cell_type": "markdown",
      "metadata": {
        "id": "7DWlR2nTAbp_",
        "colab_type": "text"
      },
      "source": [
        "# **Nouvelle section**"
      ]
    },
    {
      "cell_type": "markdown",
      "metadata": {
        "id": "5wQK5gjTAhSg",
        "colab_type": "text"
      },
      "source": [
        "# Nouvelle section"
      ]
    }
  ]
}